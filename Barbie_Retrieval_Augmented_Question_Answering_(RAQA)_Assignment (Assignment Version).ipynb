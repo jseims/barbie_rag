{
  "cells": [
    {
      "cell_type": "markdown",
      "metadata": {
        "colab_type": "text",
        "id": "view-in-github"
      },
      "source": [
        "<a href=\"https://colab.research.google.com/github/AI-Maker-Space/LLM-Ops-Vault/blob/main/Week%201/First%20Session/Barbie_Retrieval_Augmented_Question_Answering_(RAQA)_Assignment%20(Assignment%20Version).ipynb\" target=\"_parent\"><img src=\"https://colab.research.google.com/assets/colab-badge.svg\" alt=\"Open In Colab\"/></a>"
      ]
    },
    {
      "cell_type": "markdown",
      "metadata": {
        "id": "PLi09z_3qW8O"
      },
      "source": [
        "# Questioning Barbie Reviews with RAQA (Retrieval Augmented Question Answering)\n",
        "\n",
        "In the following notebook, you are tasked with creating a system that answers questions based on information found in reviews of the 2023 Barbie movie.\n",
        "\n",
        "## Build 🏗️\n",
        "\n",
        "There are 3 main tasks in this notebook:\n",
        "\n",
        "1. Obtain and parse reviews from a review website\n",
        "2. Create a Vectorstore from the reviews\n",
        "3. Create a `RetrievalQA` using the VectorStore\n",
        "\n",
        "## Ship 🚢\n",
        "\n",
        "Create a Hugging Face Space that hosts your application.\n",
        "\n",
        "## Share 🚀\n",
        "\n",
        "Make a social media post about your final application."
      ]
    },
    {
      "cell_type": "markdown",
      "metadata": {
        "id": "_BBraMxjrwOx"
      },
      "source": [
        ">### Why RAQA and not RAG?\n",
        ">If we look at the original [paper](https://arxiv.org/abs/2005.11401), we find that RAG is a fairly specific and well defined term that isn't exactly the same as \"retrieve context, feed context to model in the prompt\".\n",
        ">For that reason, we're making the decision to delineate between \"actual\" RAG, and Retrieval Augmented Question Answering - which is not a well defined phrase."
      ]
    },
    {
      "cell_type": "markdown",
      "metadata": {
        "id": "zcL8585DsZML"
      },
      "source": [
        "### Pre-task Work\n",
        "\n",
        "All we really need to do to get started is to get our prerequisites!\n",
        "\n",
        "We'll be leveraging `langchain` and `openai` today.\n",
        "\n",
        "Check out the docs:\n",
        "- [LangChain](https://docs.langchain.com/docs/)\n",
        "- [OpenAI](https://github.com/openai/openai-python)"
      ]
    },
    {
      "cell_type": "code",
      "execution_count": 1,
      "metadata": {
        "id": "vQa6rjDLqPCI"
      },
      "outputs": [],
      "source": [
        "!pip install -q -U openai langchain"
      ]
    },
    {
      "cell_type": "code",
      "execution_count": 2,
      "metadata": {
        "colab": {
          "base_uri": "https://localhost:8080/"
        },
        "id": "1wF8_ODX5h-P",
        "outputId": "f3395c72-029b-4e49-f0b9-aba7e3c2195f"
      },
      "outputs": [],
      "source": [
        "import os\n",
        "import getpass\n",
        "\n",
        "os.environ[\"OPENAI_API_KEY\"] = getpass.getpass(\"Open AI API Key:\")"
      ]
    },
    {
      "cell_type": "markdown",
      "metadata": {
        "id": "FLrL342RtWxf"
      },
      "source": [
        "### Task 1: Data Preparation\n",
        "\n",
        "In this task we'll be collecting, and then parsing, our data."
      ]
    },
    {
      "cell_type": "markdown",
      "metadata": {
        "id": "zh8QTtMhzY_g"
      },
      "source": [
        "#### Scraping IMDB Reviews of Barbie\n",
        "\n",
        "We'll use some Selenium based trickery to get the reviews we need to make our application.\n",
        "\n",
        "Check out the docs here:\n",
        "- [Selenium](https://www.selenium.dev/documentation/)"
      ]
    },
    {
      "cell_type": "code",
      "execution_count": 3,
      "metadata": {
        "id": "PsGPV2zHuCj2"
      },
      "outputs": [],
      "source": [
        "!pip install -q -U requests"
      ]
    },
    {
      "cell_type": "code",
      "execution_count": 4,
      "metadata": {
        "colab": {
          "base_uri": "https://localhost:8080/"
        },
        "id": "uCNCZdzrw81B",
        "outputId": "f74cc223-af93-491a-e92e-5d7ee1355d49"
      },
      "outputs": [],
      "source": [
        "!pip install -q -U scrapy selenium"
      ]
    },
    {
      "cell_type": "code",
      "execution_count": 5,
      "metadata": {
        "id": "evZzjyX6xTbZ"
      },
      "outputs": [
        {
          "name": "stdout",
          "output_type": "stream",
          "text": [
            "The operation couldn’t be completed. Unable to locate a Java Runtime.\n",
            "Please visit http://www.java.com for information on installing Java.\n",
            "\n"
          ]
        }
      ],
      "source": [
        "!apt install chromium-chromedriver"
      ]
    },
    {
      "cell_type": "code",
      "execution_count": 6,
      "metadata": {
        "id": "Niq6DKMOwPIn"
      },
      "outputs": [
        {
          "name": "stderr",
          "output_type": "stream",
          "text": [
            "/Users/jseims/Library/Python/3.9/lib/python/site-packages/urllib3/__init__.py:34: NotOpenSSLWarning: urllib3 v2.0 only supports OpenSSL 1.1.1+, currently the 'ssl' module is compiled with 'LibreSSL 2.8.3'. See: https://github.com/urllib3/urllib3/issues/3020\n",
            "  warnings.warn(\n"
          ]
        }
      ],
      "source": [
        "import numpy as np\n",
        "import pandas as pd\n",
        "from scrapy.selector import Selector\n",
        "from selenium import webdriver\n",
        "from selenium.webdriver.common.by import By\n",
        "from selenium.webdriver.common.keys import Keys\n",
        "import time\n",
        "from tqdm import tqdm\n",
        "import warnings\n",
        "warnings.filterwarnings(\"ignore\")"
      ]
    },
    {
      "cell_type": "code",
      "execution_count": 7,
      "metadata": {
        "id": "k9AA_f-DxGyv"
      },
      "outputs": [],
      "source": [
        "chrome_options = webdriver.ChromeOptions()\n",
        "chrome_options.add_argument('--headless')\n",
        "chrome_options.add_argument('--no-sandbox')\n",
        "chrome_options.add_argument('--disable-dev-shm-usage')\n",
        "driver = webdriver.Chrome(options=chrome_options)"
      ]
    },
    {
      "cell_type": "code",
      "execution_count": 8,
      "metadata": {
        "id": "IsjYL7K_y1ip"
      },
      "outputs": [],
      "source": [
        "url = \"https://www.imdb.com/title/tt1517268/reviews/?ref_=tt_ov_rt\"\n",
        "driver.get(url)"
      ]
    },
    {
      "cell_type": "code",
      "execution_count": 9,
      "metadata": {
        "id": "XPGysdwuy190"
      },
      "outputs": [],
      "source": [
        "sel = Selector(text = driver.page_source)\n",
        "review_counts = sel.css('.lister .header span::text').extract_first().replace(',','').split(' ')[0]\n",
        "more_review_pages = int(int(review_counts)/25)"
      ]
    },
    {
      "cell_type": "code",
      "execution_count": 10,
      "metadata": {
        "colab": {
          "base_uri": "https://localhost:8080/"
        },
        "id": "eGSJ0vuDy4D2",
        "outputId": "5bd75470-a74a-4b2c-ba76-a9025d71c79b"
      },
      "outputs": [
        {
          "name": "stderr",
          "output_type": "stream",
          "text": [
            "  0%|          | 0/45 [00:00<?, ?it/s]"
          ]
        },
        {
          "name": "stderr",
          "output_type": "stream",
          "text": [
            "100%|██████████| 45/45 [00:00<00:00, 89.51it/s]\n"
          ]
        }
      ],
      "source": [
        "for i in tqdm(range(more_review_pages)):\n",
        "    try:\n",
        "        css_selector = 'load-more-trigger'\n",
        "        driver.find_element(By.ID, css_selector).click()\n",
        "    except:\n",
        "        pass"
      ]
    },
    {
      "cell_type": "code",
      "execution_count": 11,
      "metadata": {
        "colab": {
          "base_uri": "https://localhost:8080/"
        },
        "id": "c46cAciBxr2C",
        "outputId": "d5a8737f-6162-434c-ef82-81317490960d"
      },
      "outputs": [
        {
          "name": "stderr",
          "output_type": "stream",
          "text": [
            "100%|██████████| 25/25 [00:00<00:00, 199.77it/s]\n"
          ]
        }
      ],
      "source": [
        "rating_list = []\n",
        "review_date_list = []\n",
        "review_title_list = []\n",
        "author_list = []\n",
        "review_list = []\n",
        "review_url_list = []\n",
        "error_url_list = []\n",
        "error_msg_list = []\n",
        "reviews = driver.find_elements(By.CSS_SELECTOR, 'div.review-container')\n",
        "\n",
        "for d in tqdm(reviews):\n",
        "    try:\n",
        "        sel2 = Selector(text = d.get_attribute('innerHTML'))\n",
        "        try:\n",
        "            rating = sel2.css('.rating-other-user-rating span::text').extract_first()\n",
        "        except:\n",
        "            rating = np.NaN\n",
        "        try:\n",
        "            review = sel2.css('.text.show-more__control::text').extract_first()\n",
        "        except:\n",
        "            review = np.NaN\n",
        "        try:\n",
        "            review_date = sel2.css('.review-date::text').extract_first()\n",
        "        except:\n",
        "            review_date = np.NaN\n",
        "        try:\n",
        "            author = sel2.css('.display-name-link a::text').extract_first()\n",
        "        except:\n",
        "            author = np.NaN\n",
        "        try:\n",
        "            review_title = sel2.css('a.title::text').extract_first()\n",
        "        except:\n",
        "            review_title = np.NaN\n",
        "        try:\n",
        "            review_url = sel2.css('a.title::attr(href)').extract_first()\n",
        "        except:\n",
        "            review_url = np.NaN\n",
        "        rating_list.append(rating)\n",
        "        review_date_list.append(review_date)\n",
        "        review_title_list.append(review_title)\n",
        "        author_list.append(author)\n",
        "        review_list.append(review)\n",
        "        review_url_list.append(review_url)\n",
        "    except Exception as e:\n",
        "        error_url_list.append(url)\n",
        "        error_msg_list.append(e)\n",
        "review_df = pd.DataFrame({\n",
        "    'Review_Date':review_date_list,\n",
        "    'Author':author_list,\n",
        "    'Rating':rating_list,\n",
        "    'Review_Title':review_title_list,\n",
        "    'Review':review_list,\n",
        "    'Review_Url':review_url\n",
        "    })"
      ]
    },
    {
      "cell_type": "code",
      "execution_count": 12,
      "metadata": {
        "id": "W9A0C1tbyfuh"
      },
      "outputs": [
        {
          "data": {
            "text/html": [
              "<div>\n",
              "<style scoped>\n",
              "    .dataframe tbody tr th:only-of-type {\n",
              "        vertical-align: middle;\n",
              "    }\n",
              "\n",
              "    .dataframe tbody tr th {\n",
              "        vertical-align: top;\n",
              "    }\n",
              "\n",
              "    .dataframe thead th {\n",
              "        text-align: right;\n",
              "    }\n",
              "</style>\n",
              "<table border=\"1\" class=\"dataframe\">\n",
              "  <thead>\n",
              "    <tr style=\"text-align: right;\">\n",
              "      <th></th>\n",
              "      <th>Review_Date</th>\n",
              "      <th>Author</th>\n",
              "      <th>Rating</th>\n",
              "      <th>Review_Title</th>\n",
              "      <th>Review</th>\n",
              "      <th>Review_Url</th>\n",
              "    </tr>\n",
              "  </thead>\n",
              "  <tbody>\n",
              "    <tr>\n",
              "      <th>0</th>\n",
              "      <td>21 July 2023</td>\n",
              "      <td>LoveofLegacy</td>\n",
              "      <td>6</td>\n",
              "      <td>Beautiful film, but so preachy\\n</td>\n",
              "      <td>Margot does the best with what she's given, bu...</td>\n",
              "      <td>/review/rw9230831/?ref_=tt_urv</td>\n",
              "    </tr>\n",
              "    <tr>\n",
              "      <th>1</th>\n",
              "      <td>22 July 2023</td>\n",
              "      <td>imseeg</td>\n",
              "      <td>7</td>\n",
              "      <td>3 reasons FOR seeing it and 1 reason AGAINST.\\n</td>\n",
              "      <td>The first reason to go see it:</td>\n",
              "      <td>/review/rw9230831/?ref_=tt_urv</td>\n",
              "    </tr>\n",
              "    <tr>\n",
              "      <th>2</th>\n",
              "      <td>22 July 2023</td>\n",
              "      <td>Natcat87</td>\n",
              "      <td>6</td>\n",
              "      <td>Too heavy handed\\n</td>\n",
              "      <td>As a woman that grew up with Barbie, I was ver...</td>\n",
              "      <td>/review/rw9230831/?ref_=tt_urv</td>\n",
              "    </tr>\n",
              "    <tr>\n",
              "      <th>3</th>\n",
              "      <td>31 July 2023</td>\n",
              "      <td>ramair350</td>\n",
              "      <td>10</td>\n",
              "      <td>As a guy I felt some discomfort, and that's o...</td>\n",
              "      <td>As much as it pains me to give a movie called ...</td>\n",
              "      <td>/review/rw9230831/?ref_=tt_urv</td>\n",
              "    </tr>\n",
              "    <tr>\n",
              "      <th>4</th>\n",
              "      <td>24 July 2023</td>\n",
              "      <td>heatherhilgers</td>\n",
              "      <td>9</td>\n",
              "      <td>A Technicolor Dream\\n</td>\n",
              "      <td>Wow, this movie was a love letter to cinema. F...</td>\n",
              "      <td>/review/rw9230831/?ref_=tt_urv</td>\n",
              "    </tr>\n",
              "    <tr>\n",
              "      <th>5</th>\n",
              "      <td>21 July 2023</td>\n",
              "      <td>G-Joshua-Benjamin</td>\n",
              "      <td>6</td>\n",
              "      <td>My mom and I saw this yesterday. Here are my ...</td>\n",
              "      <td>I don't know if I put spoilers in here. I am s...</td>\n",
              "      <td>/review/rw9230831/?ref_=tt_urv</td>\n",
              "    </tr>\n",
              "    <tr>\n",
              "      <th>6</th>\n",
              "      <td>21 July 2023</td>\n",
              "      <td>Sleepin_Dragon</td>\n",
              "      <td>8</td>\n",
              "      <td>Well this really did come as a surprise.\\n</td>\n",
              "      <td>It pains me to say it, but I enjoyed this movi...</td>\n",
              "      <td>/review/rw9230831/?ref_=tt_urv</td>\n",
              "    </tr>\n",
              "    <tr>\n",
              "      <th>7</th>\n",
              "      <td>20 July 2023</td>\n",
              "      <td>portraitofaladyonfire</td>\n",
              "      <td>6</td>\n",
              "      <td>Brilliant observations, but social depth is m...</td>\n",
              "      <td>Greta Gerwig and Noah Baumbach have a knack fo...</td>\n",
              "      <td>/review/rw9230831/?ref_=tt_urv</td>\n",
              "    </tr>\n",
              "    <tr>\n",
              "      <th>8</th>\n",
              "      <td>24 July 2023</td>\n",
              "      <td>coxaneesa</td>\n",
              "      <td>8</td>\n",
              "      <td>It was depressing\\n</td>\n",
              "      <td>I thought this would be so much different. The...</td>\n",
              "      <td>/review/rw9230831/?ref_=tt_urv</td>\n",
              "    </tr>\n",
              "    <tr>\n",
              "      <th>9</th>\n",
              "      <td>19 July 2023</td>\n",
              "      <td>hamsterination</td>\n",
              "      <td>6</td>\n",
              "      <td>It could have been so much better...\\n</td>\n",
              "      <td>The film's universe and settings are fantastic...</td>\n",
              "      <td>/review/rw9230831/?ref_=tt_urv</td>\n",
              "    </tr>\n",
              "    <tr>\n",
              "      <th>10</th>\n",
              "      <td>19 July 2023</td>\n",
              "      <td>HabibieHakim123</td>\n",
              "      <td>8</td>\n",
              "      <td>Barbie Is A Weirdly Fun Movie!\\n</td>\n",
              "      <td>8.5/10\\nWhile i'm not so sure at first, the mo...</td>\n",
              "      <td>/review/rw9230831/?ref_=tt_urv</td>\n",
              "    </tr>\n",
              "    <tr>\n",
              "      <th>11</th>\n",
              "      <td>20 July 2023</td>\n",
              "      <td>fscsgxp</td>\n",
              "      <td>6</td>\n",
              "      <td>Amazing Cast &amp; Set, but the political message...</td>\n",
              "      <td>I've been excited for this movie for over a ye...</td>\n",
              "      <td>/review/rw9230831/?ref_=tt_urv</td>\n",
              "    </tr>\n",
              "    <tr>\n",
              "      <th>12</th>\n",
              "      <td>20 July 2023</td>\n",
              "      <td>MissSimonetta</td>\n",
              "      <td>4</td>\n",
              "      <td>The marketing was more entertaining than the ...</td>\n",
              "      <td>I went to see this today, everyone in my group...</td>\n",
              "      <td>/review/rw9230831/?ref_=tt_urv</td>\n",
              "    </tr>\n",
              "    <tr>\n",
              "      <th>13</th>\n",
              "      <td>19 July 2023</td>\n",
              "      <td>jpismyname</td>\n",
              "      <td>8</td>\n",
              "      <td>Fun and surprisingly touching\\n</td>\n",
              "      <td>I was honestly doubting this movie at first, b...</td>\n",
              "      <td>/review/rw9230831/?ref_=tt_urv</td>\n",
              "    </tr>\n",
              "    <tr>\n",
              "      <th>14</th>\n",
              "      <td>4 August 2023</td>\n",
              "      <td>thePopcornExplorer</td>\n",
              "      <td>9</td>\n",
              "      <td>I don't see how it was preachy\\n</td>\n",
              "      <td>In this day and age with society overall becom...</td>\n",
              "      <td>/review/rw9230831/?ref_=tt_urv</td>\n",
              "    </tr>\n",
              "    <tr>\n",
              "      <th>15</th>\n",
              "      <td>23 July 2023</td>\n",
              "      <td>Revuer223</td>\n",
              "      <td>6</td>\n",
              "      <td>Could Have Been Great. 2nd Half Brings It Dow...</td>\n",
              "      <td>The quality, the humor, and the writing of the...</td>\n",
              "      <td>/review/rw9230831/?ref_=tt_urv</td>\n",
              "    </tr>\n",
              "    <tr>\n",
              "      <th>16</th>\n",
              "      <td>22 July 2023</td>\n",
              "      <td>finnconnelly-63017</td>\n",
              "      <td>10</td>\n",
              "      <td>Ken out of ten\\n</td>\n",
              "      <td>Wow. I did not see this masterpiece coming. An...</td>\n",
              "      <td>/review/rw9230831/?ref_=tt_urv</td>\n",
              "    </tr>\n",
              "    <tr>\n",
              "      <th>17</th>\n",
              "      <td>21 July 2023</td>\n",
              "      <td>andermic18</td>\n",
              "      <td>6</td>\n",
              "      <td>No Direction\\n</td>\n",
              "      <td>The movie was very funny and really enjoyable ...</td>\n",
              "      <td>/review/rw9230831/?ref_=tt_urv</td>\n",
              "    </tr>\n",
              "    <tr>\n",
              "      <th>18</th>\n",
              "      <td>29 July 2023</td>\n",
              "      <td>cmdown-50506</td>\n",
              "      <td>9</td>\n",
              "      <td>Now I am become Barbie Girl, the enjoyer of B...</td>\n",
              "      <td>I have been waiting for this to release for so...</td>\n",
              "      <td>/review/rw9230831/?ref_=tt_urv</td>\n",
              "    </tr>\n",
              "    <tr>\n",
              "      <th>19</th>\n",
              "      <td>19 July 2023</td>\n",
              "      <td>tm-sheehan</td>\n",
              "      <td>6</td>\n",
              "      <td>Didn't hit my pink spot\\n</td>\n",
              "      <td>My Review - Barbie\\nIn Cinemas now\\nMy Rating ...</td>\n",
              "      <td>/review/rw9230831/?ref_=tt_urv</td>\n",
              "    </tr>\n",
              "    <tr>\n",
              "      <th>20</th>\n",
              "      <td>20 July 2023</td>\n",
              "      <td>Genti25</td>\n",
              "      <td>8</td>\n",
              "      <td>You are Kenough\\n</td>\n",
              "      <td>This movie is so much fun. It starts off reall...</td>\n",
              "      <td>/review/rw9230831/?ref_=tt_urv</td>\n",
              "    </tr>\n",
              "    <tr>\n",
              "      <th>21</th>\n",
              "      <td>24 July 2023</td>\n",
              "      <td>lokicola</td>\n",
              "      <td>6</td>\n",
              "      <td>Strong Start... and That's It\\n</td>\n",
              "      <td>I walked out of the theatre thinking, \"Yeah, I...</td>\n",
              "      <td>/review/rw9230831/?ref_=tt_urv</td>\n",
              "    </tr>\n",
              "    <tr>\n",
              "      <th>22</th>\n",
              "      <td>23 July 2023</td>\n",
              "      <td>herrcarter-92161</td>\n",
              "      <td>5</td>\n",
              "      <td>Somewhat of a Jumbled Mess\\n</td>\n",
              "      <td>My 15-year old daughter wrote the following re...</td>\n",
              "      <td>/review/rw9230831/?ref_=tt_urv</td>\n",
              "    </tr>\n",
              "    <tr>\n",
              "      <th>23</th>\n",
              "      <td>19 July 2023</td>\n",
              "      <td>andypaps101</td>\n",
              "      <td>8</td>\n",
              "      <td>\"Barbie\" - A Multifaceted Exploration of Femi...</td>\n",
              "      <td>I got free tickets for a preview and to be hon...</td>\n",
              "      <td>/review/rw9230831/?ref_=tt_urv</td>\n",
              "    </tr>\n",
              "    <tr>\n",
              "      <th>24</th>\n",
              "      <td>1 August 2023</td>\n",
              "      <td>zkonedog</td>\n",
              "      <td>10</td>\n",
              "      <td>An Amazingly Perfect Blend Of Social Satire &amp;...</td>\n",
              "      <td>For a film like \"Barbie\" to succeed, every asp...</td>\n",
              "      <td>/review/rw9230831/?ref_=tt_urv</td>\n",
              "    </tr>\n",
              "  </tbody>\n",
              "</table>\n",
              "</div>"
            ],
            "text/plain": [
              "      Review_Date                 Author Rating  \\\n",
              "0    21 July 2023           LoveofLegacy      6   \n",
              "1    22 July 2023                 imseeg      7   \n",
              "2    22 July 2023               Natcat87      6   \n",
              "3    31 July 2023              ramair350     10   \n",
              "4    24 July 2023         heatherhilgers      9   \n",
              "5    21 July 2023      G-Joshua-Benjamin      6   \n",
              "6    21 July 2023         Sleepin_Dragon      8   \n",
              "7    20 July 2023  portraitofaladyonfire      6   \n",
              "8    24 July 2023              coxaneesa      8   \n",
              "9    19 July 2023         hamsterination      6   \n",
              "10   19 July 2023        HabibieHakim123      8   \n",
              "11   20 July 2023                fscsgxp      6   \n",
              "12   20 July 2023          MissSimonetta      4   \n",
              "13   19 July 2023             jpismyname      8   \n",
              "14  4 August 2023     thePopcornExplorer      9   \n",
              "15   23 July 2023              Revuer223      6   \n",
              "16   22 July 2023     finnconnelly-63017     10   \n",
              "17   21 July 2023             andermic18      6   \n",
              "18   29 July 2023           cmdown-50506      9   \n",
              "19   19 July 2023             tm-sheehan      6   \n",
              "20   20 July 2023                Genti25      8   \n",
              "21   24 July 2023               lokicola      6   \n",
              "22   23 July 2023       herrcarter-92161      5   \n",
              "23   19 July 2023            andypaps101      8   \n",
              "24  1 August 2023               zkonedog     10   \n",
              "\n",
              "                                         Review_Title  \\\n",
              "0                    Beautiful film, but so preachy\\n   \n",
              "1     3 reasons FOR seeing it and 1 reason AGAINST.\\n   \n",
              "2                                  Too heavy handed\\n   \n",
              "3    As a guy I felt some discomfort, and that's o...   \n",
              "4                               A Technicolor Dream\\n   \n",
              "5    My mom and I saw this yesterday. Here are my ...   \n",
              "6          Well this really did come as a surprise.\\n   \n",
              "7    Brilliant observations, but social depth is m...   \n",
              "8                                 It was depressing\\n   \n",
              "9              It could have been so much better...\\n   \n",
              "10                   Barbie Is A Weirdly Fun Movie!\\n   \n",
              "11   Amazing Cast & Set, but the political message...   \n",
              "12   The marketing was more entertaining than the ...   \n",
              "13                    Fun and surprisingly touching\\n   \n",
              "14                   I don't see how it was preachy\\n   \n",
              "15   Could Have Been Great. 2nd Half Brings It Dow...   \n",
              "16                                   Ken out of ten\\n   \n",
              "17                                     No Direction\\n   \n",
              "18   Now I am become Barbie Girl, the enjoyer of B...   \n",
              "19                          Didn't hit my pink spot\\n   \n",
              "20                                  You are Kenough\\n   \n",
              "21                    Strong Start... and That's It\\n   \n",
              "22                       Somewhat of a Jumbled Mess\\n   \n",
              "23   \"Barbie\" - A Multifaceted Exploration of Femi...   \n",
              "24   An Amazingly Perfect Blend Of Social Satire &...   \n",
              "\n",
              "                                               Review  \\\n",
              "0   Margot does the best with what she's given, bu...   \n",
              "1                      The first reason to go see it:   \n",
              "2   As a woman that grew up with Barbie, I was ver...   \n",
              "3   As much as it pains me to give a movie called ...   \n",
              "4   Wow, this movie was a love letter to cinema. F...   \n",
              "5   I don't know if I put spoilers in here. I am s...   \n",
              "6   It pains me to say it, but I enjoyed this movi...   \n",
              "7   Greta Gerwig and Noah Baumbach have a knack fo...   \n",
              "8   I thought this would be so much different. The...   \n",
              "9   The film's universe and settings are fantastic...   \n",
              "10  8.5/10\\nWhile i'm not so sure at first, the mo...   \n",
              "11  I've been excited for this movie for over a ye...   \n",
              "12  I went to see this today, everyone in my group...   \n",
              "13  I was honestly doubting this movie at first, b...   \n",
              "14  In this day and age with society overall becom...   \n",
              "15  The quality, the humor, and the writing of the...   \n",
              "16  Wow. I did not see this masterpiece coming. An...   \n",
              "17  The movie was very funny and really enjoyable ...   \n",
              "18  I have been waiting for this to release for so...   \n",
              "19  My Review - Barbie\\nIn Cinemas now\\nMy Rating ...   \n",
              "20  This movie is so much fun. It starts off reall...   \n",
              "21  I walked out of the theatre thinking, \"Yeah, I...   \n",
              "22  My 15-year old daughter wrote the following re...   \n",
              "23  I got free tickets for a preview and to be hon...   \n",
              "24  For a film like \"Barbie\" to succeed, every asp...   \n",
              "\n",
              "                        Review_Url  \n",
              "0   /review/rw9230831/?ref_=tt_urv  \n",
              "1   /review/rw9230831/?ref_=tt_urv  \n",
              "2   /review/rw9230831/?ref_=tt_urv  \n",
              "3   /review/rw9230831/?ref_=tt_urv  \n",
              "4   /review/rw9230831/?ref_=tt_urv  \n",
              "5   /review/rw9230831/?ref_=tt_urv  \n",
              "6   /review/rw9230831/?ref_=tt_urv  \n",
              "7   /review/rw9230831/?ref_=tt_urv  \n",
              "8   /review/rw9230831/?ref_=tt_urv  \n",
              "9   /review/rw9230831/?ref_=tt_urv  \n",
              "10  /review/rw9230831/?ref_=tt_urv  \n",
              "11  /review/rw9230831/?ref_=tt_urv  \n",
              "12  /review/rw9230831/?ref_=tt_urv  \n",
              "13  /review/rw9230831/?ref_=tt_urv  \n",
              "14  /review/rw9230831/?ref_=tt_urv  \n",
              "15  /review/rw9230831/?ref_=tt_urv  \n",
              "16  /review/rw9230831/?ref_=tt_urv  \n",
              "17  /review/rw9230831/?ref_=tt_urv  \n",
              "18  /review/rw9230831/?ref_=tt_urv  \n",
              "19  /review/rw9230831/?ref_=tt_urv  \n",
              "20  /review/rw9230831/?ref_=tt_urv  \n",
              "21  /review/rw9230831/?ref_=tt_urv  \n",
              "22  /review/rw9230831/?ref_=tt_urv  \n",
              "23  /review/rw9230831/?ref_=tt_urv  \n",
              "24  /review/rw9230831/?ref_=tt_urv  "
            ]
          },
          "execution_count": 12,
          "metadata": {},
          "output_type": "execute_result"
        }
      ],
      "source": [
        "review_df"
      ]
    },
    {
      "cell_type": "markdown",
      "metadata": {
        "id": "9gHLLYflzw_f"
      },
      "source": [
        "Let's save this `pd.DataFrame` as a `.csv` to our local session (this will be terminated when you terminate the Colab session) so we can leverage it in LangChain!\n",
        "\n",
        "Check out the docs if you get stuck:\n",
        "- [`to_csv()`](https://pandas.pydata.org/docs/reference/api/pandas.DataFrame.to_csv.html)"
      ]
    },
    {
      "cell_type": "code",
      "execution_count": 16,
      "metadata": {
        "id": "N9FDhwbNz64p"
      },
      "outputs": [],
      "source": [
        "### YOUR CODE HERE\n",
        "review_df.to_csv(\"reviews.csv\")"
      ]
    },
    {
      "cell_type": "markdown",
      "metadata": {
        "id": "JtBD1H8ezNLO"
      },
      "source": [
        "#### Data Parsing\n",
        "\n",
        "Now that we have our data - let's go ahead and start parsing it into a more usable format for LangChain!\n",
        "\n",
        "We'll be using the `CSVLoader` for this application.\n",
        "\n",
        "We also want to be sure to track the sources that our review came from!\n",
        "\n",
        "Check out the docs here:\n",
        "- [`CSVLoader`](https://python.langchain.com/docs/integrations/document_loaders/csv)"
      ]
    },
    {
      "cell_type": "code",
      "execution_count": 14,
      "metadata": {
        "id": "AdXub4CszAAt"
      },
      "outputs": [],
      "source": [
        "from langchain.document_loaders.csv_loader import CSVLoader"
      ]
    },
    {
      "cell_type": "code",
      "execution_count": 39,
      "metadata": {
        "id": "piE3_eSi0KGC"
      },
      "outputs": [],
      "source": [
        "loader = CSVLoader(\n",
        "    file_path=\"reviews.csv\",\n",
        "    source_column=None\n",
        "    )\n",
        "\n",
        "data = loader.load()"
      ]
    },
    {
      "cell_type": "code",
      "execution_count": 36,
      "metadata": {
        "id": "pvxnyjgh0TRQ"
      },
      "outputs": [
        {
          "name": "stdout",
          "output_type": "stream",
          "text": [
            ": 0\n",
            "Review_Date: 21 July 2023\n",
            "Author: LoveofLegacy\n",
            "Rating: 6\n",
            "Review_Title: Beautiful film, but so preachy\n",
            "Review: Margot does the best with what she's given, but this film was very disappointing to me. It was marketed as a fun, quirky satire with homages to other movies. It started that way, but ended with over-dramatized speeches and an ending that clearly tried to make the audience feel something, but left everyone just feeling confused. And before you say I'm a crotchety old man, I'm a woman in my 20s, so I'm pretty sure I'm this movie's target audience. The saddest part is there were parents with their kids in the theater that were victims of the poor marketing, because this is not a kid's movie. Overall, the humor was fun on occasion and the film is beautiful to look at, but the whole concept falls apart in the second half of the film and becomes a pity party for the \"strong\" woman.\n",
            "Review_Url: /review/rw9230831/?ref_=tt_urv\n"
          ]
        }
      ],
      "source": [
        "print(data)"
      ]
    },
    {
      "cell_type": "code",
      "execution_count": 40,
      "metadata": {
        "colab": {
          "base_uri": "https://localhost:8080/"
        },
        "id": "26SZD9zb3luR",
        "outputId": "1362d670-2218-4506-9e5b-125864d3bd9a"
      },
      "outputs": [
        {
          "name": "stdout",
          "output_type": "stream",
          "text": [
            "25\n"
          ]
        },
        {
          "ename": "AssertionError",
          "evalue": "",
          "output_type": "error",
          "traceback": [
            "\u001b[0;31m---------------------------------------------------------------------------\u001b[0m",
            "\u001b[0;31mAssertionError\u001b[0m                            Traceback (most recent call last)",
            "Cell \u001b[0;32mIn[40], line 2\u001b[0m\n\u001b[1;32m      1\u001b[0m \u001b[39mprint\u001b[39m(\u001b[39mlen\u001b[39m(data))\n\u001b[0;32m----> 2\u001b[0m \u001b[39massert\u001b[39;00m \u001b[39mlen\u001b[39m(data) \u001b[39m==\u001b[39m \u001b[39m125\u001b[39m\n",
            "\u001b[0;31mAssertionError\u001b[0m: "
          ]
        }
      ],
      "source": [
        "print(len(data))\n",
        "# removing assert because length depends on the contents of the page downloaded, which changes\n",
        "#assert len(data) == 125"
      ]
    },
    {
      "cell_type": "markdown",
      "metadata": {
        "id": "_CTameZZ0r76"
      },
      "source": [
        "Now that we have collected our review information into a loader - we can go ahead and chunk the reviews into more manageable pieces.\n",
        "\n",
        "We'll be leveraging the `RecursiveCharacterTextSplitter` for this task today.\n",
        "\n",
        "While splitting our text seems like a simple enough task - getting this correct/incorrect can have massive downstream impacts on your application's performance.\n",
        "\n",
        "You can read the docs here:\n",
        "- [RecursiveCharacterTextSplitter](https://python.langchain.com/docs/modules/data_connection/document_transformers/text_splitters/recursive_text_splitter)\n",
        "\n",
        "We want to split our documents into 1000 character length chunks, with 100 characters of overlap.\n",
        "\n",
        "> ### HINT:\n",
        ">It's always worth it to check out the LangChain source code if you're ever in a bind - for instance, if you want to know how to transform a set of documents, check it out [here](https://github.com/langchain-ai/langchain/blob/5e9687a196410e9f41ebcd11eb3f2ca13925545b/libs/langchain/langchain/text_splitter.py#L268C18-L268C18)"
      ]
    },
    {
      "cell_type": "code",
      "execution_count": 21,
      "metadata": {
        "id": "uEgcUVtl00Xm"
      },
      "outputs": [],
      "source": [
        "from langchain.text_splitter import RecursiveCharacterTextSplitter\n",
        "\n",
        "text_splitter = RecursiveCharacterTextSplitter(\n",
        "    chunk_size = 1000, # the character length of the chunk\n",
        "    chunk_overlap = 100, # the character length of the overlap between chunks\n",
        "    length_function = len # the length function\n",
        ")"
      ]
    },
    {
      "cell_type": "code",
      "execution_count": 42,
      "metadata": {
        "id": "y9RJUiUD2gS5"
      },
      "outputs": [
        {
          "name": "stdout",
          "output_type": "stream",
          "text": [
            ": 0\n",
            "Review_Date: 21 July 2023\n",
            "Author: LoveofLegacy\n",
            "Rating: 6\n",
            "Review_Title: Beautiful film, but so preachy\n",
            "Review: Margot does the best with what she's given, but this film was very disappointing to me. It was marketed as a fun, quirky satire with homages to other movies. It started that way, but ended with over-dramatized speeches and an ending that clearly tried to make the audience feel something, but left everyone just feeling confused. And before you say I'm a crotchety old man, I'm a woman in my 20s, so I'm pretty sure I'm this movie's target audience. The saddest part is there were parents with their kids in the theater that were victims of the poor marketing, because this is not a kid's movie. Overall, the humor was fun on occasion and the film is beautiful to look at, but the whole concept falls apart in the second half of the film and becomes a pity party for the \"strong\" woman.\n",
            "Review_Url: /review/rw9230831/?ref_=tt_urv\n",
            "[': 0\\nReview_Date: 21 July 2023\\nAuthor: LoveofLegacy\\nRating: 6\\nReview_Title: Beautiful film, but so preachy\\nReview: Margot does the best with what she\\'s given, but this film was very disappointing to me. It was marketed as a fun, quirky satire with homages to other movies. It started that way, but ended with over-dramatized speeches and an ending that clearly tried to make the audience feel something, but left everyone just feeling confused. And before you say I\\'m a crotchety old man, I\\'m a woman in my 20s, so I\\'m pretty sure I\\'m this movie\\'s target audience. The saddest part is there were parents with their kids in the theater that were victims of the poor marketing, because this is not a kid\\'s movie. Overall, the humor was fun on occasion and the film is beautiful to look at, but the whole concept falls apart in the second half of the film and becomes a pity party for the \"strong\" woman.\\nReview_Url: /review/rw9230831/?ref_=tt_urv', ': 1\\nReview_Date: 22 July 2023\\nAuthor: imseeg\\nRating: 7\\nReview_Title: 3 reasons FOR seeing it and 1 reason AGAINST.\\nReview: The first reason to go see it:\\nReview_Url: /review/rw9230831/?ref_=tt_urv', ': 2\\nReview_Date: 22 July 2023\\nAuthor: Natcat87\\nRating: 6\\nReview_Title: Too heavy handed\\nReview: As a woman that grew up with Barbie, I was very excited for this movie. I was curious to see how they would evolve the \"stereotypical Barbie\" into something more. But the messaging in this movie was so heavy handed that it completely lost the plot. I consider myself a proponent of gender equality, and this ain\\'t the way to get it.\\nReview_Url: /review/rw9230831/?ref_=tt_urv', ': 3\\nReview_Date: 31 July 2023\\nAuthor: ramair350\\nRating: 10\\nReview_Title: As a guy I felt some discomfort, and that\\'s ok.\\nReview: As much as it pains me to give a movie called \"Barbie\" a 10 out of 10, I have to do so. It is so brilliantly handled and finely crafted, I have to give the filmakers credit. Yes, I am somewhat conservative person and former law enforcement officer. I\\'m a guy. I like guy things. Hell I even enjoyed the Battleship movie a few years ago (an absolutely ridiculous but fun romp of an action film). But I also like to experience other perspectives. And man oh man does this movie deliver that in spades - pretty much encapsulated everything my wife has tried to convey about her entire career and life experience wrapped up into two hours! The humor, the sets, the acting, and the ability to weave the current narrative into the story was just perfect. I don\\'t agree with some of the points of the movie, but again, that\\'s ok. This movie wasn\\'t designed to give a balanced perspective of men versus women; it is a no-holds-barred unapologetic crazy ride of a rant about the real issues that women have faced since they were \"allowed\" to have \"real jobs\" and do the same things as men. Give me a well done film that is a blast to watch, that makes you think, and that was done from a place of creativity, passion, and attention to detail, and I\\'ll call it what it is: a 10 out of 10 masterpiece.\\nReview_Url: /review/rw9230831/?ref_=tt_urv', ': 4\\nReview_Date: 24 July 2023\\nAuthor: heatherhilgers\\nRating: 9\\nReview_Title: A Technicolor Dream\\nReview: Wow, this movie was a love letter to cinema. From the Kubrick reference at the opening, to the soundstage being 100% real - no cgi for the sets. There were dance sequences like in the olden days (think Grease) and the costuming , wow the costuming. Greta Gerwig dug deep to make this masterpiece using all of her technical chops along the way. The casting director also nailed it, everyone was wonderful.\\nReview_Url: /review/rw9230831/?ref_=tt_urv', \": 5\\nReview_Date: 21 July 2023\\nAuthor: G-Joshua-Benjamin\\nRating: 6\\nReview_Title: My mom and I saw this yesterday. Here are my thoughts.\\nReview: I don't know if I put spoilers in here. I am super worn out. Haha So I will just put that I did.\\nReview_Url: /review/rw9230831/?ref_=tt_urv\", ': 6\\nReview_Date: 21 July 2023\\nAuthor: Sleepin_Dragon\\nRating: 8\\nReview_Title: Well this really did come as a surprise.\\nReview: It pains me to say it, but I enjoyed this movie so much more then I was expecting to, musical numbers, humour, there truly is something for the whole family yo enjoy.\\nReview_Url: /review/rw9230831/?ref_=tt_urv', ': 7\\nReview_Date: 20 July 2023\\nAuthor: portraitofaladyonfire\\nRating: 6\\nReview_Title: Brilliant observations, but social depth is missing\\nReview: Greta Gerwig and Noah Baumbach have a knack for incorporating the many little observations of life, whether funny or deeply interpersonal, into a screenplay. Gerwig manages to direct them with great visuals and clever transitions.\\nReview_Url: /review/rw9230831/?ref_=tt_urv', \": 8\\nReview_Date: 24 July 2023\\nAuthor: coxaneesa\\nRating: 8\\nReview_Title: It was depressing\\nReview: I thought this would be so much different. The ending made me feel sad and empty. Ken and Barbie don't end up together and they made Ken seem like a complete idiot. Actually they presented men as being dumb throughout the whole movie. And I'm not a man but that's just not true. It was depressing and sad and never the way Barbie was created for. I know a lot of people won't agree with me and that's okay but it was just pointless going to see it. The only good thing is that the Barbie aesthetic was beautifully done.\\nReview_Url: /review/rw9230831/?ref_=tt_urv\", \": 9\\nReview_Date: 19 July 2023\\nAuthor: hamsterination\\nRating: 6\\nReview_Title: It could have been so much better...\\nReview: The film's universe and settings are fantastic. The casting is really good too, with Gosling excelling in the role of Ken.\\nReview_Url: /review/rw9230831/?ref_=tt_urv\", ': 10\\nReview_Date: 19 July 2023\\nAuthor: HabibieHakim123\\nRating: 8\\nReview_Title: Barbie Is A Weirdly Fun Movie!\\nReview: 8.5/10\\nWhile i\\'m not so sure at first, the movie kept getting even more fun, entertaining, and definitely better, also surprisingly deal with a legit serious stuff, Barbie is a weirdly fun movie that fills with this very interesting concept, definitely the first time that\\'s ever done, Greta Gerwig has created this whole new style of filmmaking specifically for Barbie, from the intentionally weird yet creative editing, some awkward and cringe scene, i found the comedy so funny instead of cringe, Barbie is one of the most original movie of the year and also one of the most original movie i\\'ve seen in a while, we all know Margot Robbie and Ryan Gosling is gonna carry the movie and they are, but Will Ferrell, Simu Liu, and the whole rest of the cast were also great and entertaining, the soundtrack was just great, except Nicki Minaj and Ice Spice \"Barbie World\" song that are just absolutely terrible, but Billie Eilish \"What Was I Made For?\" tune that kept haunting in the background until it finally get the perfect scene to played it was really the best thing because that song was just beautiful and emotional, anyway, Barbie is a lot of fun, while there is still some noticeable flawed, most of them i found it funny, entertaining, colourful, creative, and fun, pure fun, it\\'s something that i probably will love it even more the second time i see it, but as of right now, Barbie was a good time, definitely recommended and with this movie somehow it\\'s actually possible to have a live-action Barbie movie, all you need to have is a good writer, good director, and good cast, and they delivers mostly.\\nReview_Url: /review/rw9230831/?ref_=tt_urv', \": 11\\nReview_Date: 20 July 2023\\nAuthor: fscsgxp\\nRating: 6\\nReview_Title: Amazing Cast & Set, but the political message was too strong\\nReview: I've been excited for this movie for over a year. The casting was perfect and the acting was amazing! The set was next level, the tiny details were all there and even the highest barbie fan couldn't ask for anything more from it. It is PERFECTION.\\nReview_Url: /review/rw9230831/?ref_=tt_urv\", ': 12\\nReview_Date: 20 July 2023\\nAuthor: MissSimonetta\\nRating: 4\\nReview_Title: The marketing was more entertaining than the actual movie\\nReview: I went to see this today, everyone in my group dressed in pink and ready to at least be entertained by pastel-colored camp for two hours. BARBIE kind of succeeds there: I loved the costuming and sets of Barbieland, and Margot Robie is such a fantastic actress, the perfect embodiment of the optimistic, she-can-do-it-all Barbie. Ryan Gosling was a scene-stealer with his horse obsession and faux mink coat.\\nReview_Url: /review/rw9230831/?ref_=tt_urv', ': 13\\nReview_Date: 19 July 2023\\nAuthor: jpismyname\\nRating: 8\\nReview_Title: Fun and surprisingly touching\\nReview: I was honestly doubting this movie at first, but surprisingly I find myself really liking it quite a lot.\\nReview_Url: /review/rw9230831/?ref_=tt_urv', \": 14\\nReview_Date: 4 August 2023\\nAuthor: thePopcornExplorer\\nRating: 9\\nReview_Title: I don't see how it was preachy\\nReview: In this day and age with society overall becoming more and more polarized and our leaders around the world doing nothing to improve dialogue, it seems that people became broken records. Now everything in the movies and TV shows is perceived as preachy, not everything is a conspiracy, people need to consider that movies and TV shows at its core, and specially the good ones, are about sharing perspectives and allow the audience, if their minds are opened to it, to acknowledge all sides of the stories.\\nReview_Url: /review/rw9230831/?ref_=tt_urv\", \": 15\\nReview_Date: 23 July 2023\\nAuthor: Revuer223\\nRating: 6\\nReview_Title: Could Have Been Great. 2nd Half Brings It Down.\\nReview: The quality, the humor, and the writing of the movie is fun for a while. It's quirky and it's unique. When they get into the weeds and try to explore deeper themes, the movie is a miss. The middle expositional phase of the movie, I must say, is a bore.\\nReview_Url: /review/rw9230831/?ref_=tt_urv\", \": 16\\nReview_Date: 22 July 2023\\nAuthor: finnconnelly-63017\\nRating: 10\\nReview_Title: Ken out of ten\\nReview: Wow. I did not see this masterpiece coming. And that's not a joke. Somehow, Greta Gerwig took Barbie, and made a movie that tackles some really tough social issues....well? It's crazy. But wow, does it work. The story is very mature, thinker of a plot. Once you're done laughing your butt off, you'll get really emotional. The production design is so on point. The whole movie is pink everything, but it's never polarizing. All the shades melt together in a very pleasing way. And of course the cast! Margot Robbie was born to play Barbie, and she hits a home run, but Ryan Gosling. This dude rocks as Ken. He knocked it all the way around the world and hit himself in the back of the head. He steals every scene he's in, and I would be so on board with a Ken spin-off. America Ferrara and Simu Liu are also great in their respective roles, but the cast overall is just perfect. Overall, Barbie is probably the best movie based off a toy (sorry LEGO Movies) and an overall fantastic time at the movies.\\nReview_Url: /review/rw9230831/?ref_=tt_urv\", \": 17\\nReview_Date: 21 July 2023\\nAuthor: andermic18\\nRating: 6\\nReview_Title: No Direction\\nReview: The movie was very funny and really enjoyable to laugh at with the full theatre. However, the messages of the movie were the problem. I was never really sure what I was supposed to take away, there was nothing about finding equality or love it was all about how every man cat falls every woman or women can't be anything. It was really silly because there was no accurate reflection of America at any single point except for Barbie getting called a Fascist for no reason by a 14 year old. I enjoyed how they called out women for hating women and how they really tried to preach empowerment and the ability to be anything, but at the same time there was so much resentment and they ended the movie by reinstating hate. The majority of the movie was hating men as much as possible. That's just whatever because what really matters is the story. Well it fell short on that mark and it was really disappointing. The pacing was horrible, the villain won and was pretty irrelevant in the long run, the story was all over the place, and it is totally not for kids. I think the worst part is how disappointed I was at the opportunity to really make something special and it just wasn't. 6 points for all the laughs and fun I had and I would expect 6-7 to be an appropriate rating.\\nReview_Url: /review/rw9230831/?ref_=tt_urv\", \": 18\\nReview_Date: 29 July 2023\\nAuthor: cmdown-50506\\nRating: 9\\nReview_Title: Now I am become Barbie Girl, the enjoyer of Barbie worlds\\nReview: I have been waiting for this to release for so long and I finally got to watch it today. I absolutely loved it! It was fun, it had Margot Robbie (and extra stuff for Tarantino's out there if you know what I mean) And it had some absolute bangers! What more could you want from a new summer classic?\\nReview_Url: /review/rw9230831/?ref_=tt_urv\", \": 19\\nReview_Date: 19 July 2023\\nAuthor: tm-sheehan\\nRating: 6\\nReview_Title: Didn't hit my pink spot\\nReview: My Review - Barbie\\nIn Cinemas now\\nMy Rating 6.5/10\\nReview_Url: /review/rw9230831/?ref_=tt_urv\", ': 20\\nReview_Date: 20 July 2023\\nAuthor: Genti25\\nRating: 8\\nReview_Title: You are Kenough\\nReview: This movie is so much fun. It starts off really strong although the story does move away from \"Barbieland\" sooner than I would have liked. Nonetheless, it regains its footing with the final act in particular and I could not stop laughing at Ryan Gosling\\'s portrayal of Ken. That song will forever be stuck in my head.\\nReview_Url: /review/rw9230831/?ref_=tt_urv', ': 21\\nReview_Date: 24 July 2023\\nAuthor: lokicola\\nRating: 6\\nReview_Title: Strong Start... and That\\'s It\\nReview: I walked out of the theatre thinking, \"Yeah, I had a good time in that movie\". But as the day went on I kind had that \"Ok, that kebab probably wasn\\'t a good idea.\"\\nReview_Url: /review/rw9230831/?ref_=tt_urv', ': 22\\nReview_Date: 23 July 2023\\nAuthor: herrcarter-92161\\nRating: 5\\nReview_Title: Somewhat of a Jumbled Mess\\nReview: My 15-year old daughter wrote the following review and posted it to my IMDB account.\\nReview_Url: /review/rw9230831/?ref_=tt_urv', ': 23\\nReview_Date: 19 July 2023\\nAuthor: andypaps101\\nRating: 8\\nReview_Title: \"Barbie\" - A Multifaceted Exploration of Femininity, Consumerism, and Existentialism\\nReview: I got free tickets for a preview and to be honest I was more than a little embarrassed to go. I did not tell a soul. As a cool middle aged gentleman if word got out this could have really affected my street cred.\\nReview_Url: /review/rw9230831/?ref_=tt_urv', ': 24\\nReview_Date: 1 August 2023\\nAuthor: zkonedog\\nRating: 10\\nReview_Title: An Amazingly Perfect Blend Of Social Satire & Fun\\nReview: For a film like \"Barbie\" to succeed, every aspect had to come together perfectly. It needed to consummately balance satire with fun, the casting had to be spot-on, and the writing/directing required to pull off such a feat would need to be exquisite. Somewhat remarkably, that is exactly what writer/director Greta Gerwig pulls off here to create the best movie of summer 2023.\\nReview_Url: /review/rw9230831/?ref_=tt_urv']\n"
          ]
        }
      ],
      "source": [
        "#print(data[0].page_content)\n",
        "\n",
        "content = [d.page_content for d in data]\n",
        "\n",
        "print(content)\n",
        "\n",
        "documents = text_splitter.create_documents(content)"
      ]
    },
    {
      "cell_type": "code",
      "execution_count": 43,
      "metadata": {
        "id": "w-oWu5XT3IG4"
      },
      "outputs": [
        {
          "name": "stdout",
          "output_type": "stream",
          "text": [
            "[Document(page_content=': 0\\nReview_Date: 21 July 2023\\nAuthor: LoveofLegacy\\nRating: 6\\nReview_Title: Beautiful film, but so preachy\\nReview: Margot does the best with what she\\'s given, but this film was very disappointing to me. It was marketed as a fun, quirky satire with homages to other movies. It started that way, but ended with over-dramatized speeches and an ending that clearly tried to make the audience feel something, but left everyone just feeling confused. And before you say I\\'m a crotchety old man, I\\'m a woman in my 20s, so I\\'m pretty sure I\\'m this movie\\'s target audience. The saddest part is there were parents with their kids in the theater that were victims of the poor marketing, because this is not a kid\\'s movie. Overall, the humor was fun on occasion and the film is beautiful to look at, but the whole concept falls apart in the second half of the film and becomes a pity party for the \"strong\" woman.\\nReview_Url: /review/rw9230831/?ref_=tt_urv', metadata={}), Document(page_content=': 1\\nReview_Date: 22 July 2023\\nAuthor: imseeg\\nRating: 7\\nReview_Title: 3 reasons FOR seeing it and 1 reason AGAINST.\\nReview: The first reason to go see it:\\nReview_Url: /review/rw9230831/?ref_=tt_urv', metadata={}), Document(page_content=': 2\\nReview_Date: 22 July 2023\\nAuthor: Natcat87\\nRating: 6\\nReview_Title: Too heavy handed\\nReview: As a woman that grew up with Barbie, I was very excited for this movie. I was curious to see how they would evolve the \"stereotypical Barbie\" into something more. But the messaging in this movie was so heavy handed that it completely lost the plot. I consider myself a proponent of gender equality, and this ain\\'t the way to get it.\\nReview_Url: /review/rw9230831/?ref_=tt_urv', metadata={}), Document(page_content=\": 3\\nReview_Date: 31 July 2023\\nAuthor: ramair350\\nRating: 10\\nReview_Title: As a guy I felt some discomfort, and that's ok.\", metadata={}), Document(page_content='Review: As much as it pains me to give a movie called \"Barbie\" a 10 out of 10, I have to do so. It is so brilliantly handled and finely crafted, I have to give the filmakers credit. Yes, I am somewhat conservative person and former law enforcement officer. I\\'m a guy. I like guy things. Hell I even enjoyed the Battleship movie a few years ago (an absolutely ridiculous but fun romp of an action film). But I also like to experience other perspectives. And man oh man does this movie deliver that in spades - pretty much encapsulated everything my wife has tried to convey about her entire career and life experience wrapped up into two hours! The humor, the sets, the acting, and the ability to weave the current narrative into the story was just perfect. I don\\'t agree with some of the points of the movie, but again, that\\'s ok. This movie wasn\\'t designed to give a balanced perspective of men versus women; it is a no-holds-barred unapologetic crazy ride of a rant about the real issues that', metadata={}), Document(page_content='versus women; it is a no-holds-barred unapologetic crazy ride of a rant about the real issues that women have faced since they were \"allowed\" to have \"real jobs\" and do the same things as men. Give me a well done film that is a blast to watch, that makes you think, and that was done from a place of creativity, passion, and attention to detail, and I\\'ll call it what it is: a 10 out of 10 masterpiece.', metadata={}), Document(page_content='Review_Url: /review/rw9230831/?ref_=tt_urv', metadata={}), Document(page_content=': 4\\nReview_Date: 24 July 2023\\nAuthor: heatherhilgers\\nRating: 9\\nReview_Title: A Technicolor Dream\\nReview: Wow, this movie was a love letter to cinema. From the Kubrick reference at the opening, to the soundstage being 100% real - no cgi for the sets. There were dance sequences like in the olden days (think Grease) and the costuming , wow the costuming. Greta Gerwig dug deep to make this masterpiece using all of her technical chops along the way. The casting director also nailed it, everyone was wonderful.\\nReview_Url: /review/rw9230831/?ref_=tt_urv', metadata={}), Document(page_content=\": 5\\nReview_Date: 21 July 2023\\nAuthor: G-Joshua-Benjamin\\nRating: 6\\nReview_Title: My mom and I saw this yesterday. Here are my thoughts.\\nReview: I don't know if I put spoilers in here. I am super worn out. Haha So I will just put that I did.\\nReview_Url: /review/rw9230831/?ref_=tt_urv\", metadata={}), Document(page_content=': 6\\nReview_Date: 21 July 2023\\nAuthor: Sleepin_Dragon\\nRating: 8\\nReview_Title: Well this really did come as a surprise.\\nReview: It pains me to say it, but I enjoyed this movie so much more then I was expecting to, musical numbers, humour, there truly is something for the whole family yo enjoy.\\nReview_Url: /review/rw9230831/?ref_=tt_urv', metadata={}), Document(page_content=': 7\\nReview_Date: 20 July 2023\\nAuthor: portraitofaladyonfire\\nRating: 6\\nReview_Title: Brilliant observations, but social depth is missing\\nReview: Greta Gerwig and Noah Baumbach have a knack for incorporating the many little observations of life, whether funny or deeply interpersonal, into a screenplay. Gerwig manages to direct them with great visuals and clever transitions.\\nReview_Url: /review/rw9230831/?ref_=tt_urv', metadata={}), Document(page_content=\": 8\\nReview_Date: 24 July 2023\\nAuthor: coxaneesa\\nRating: 8\\nReview_Title: It was depressing\\nReview: I thought this would be so much different. The ending made me feel sad and empty. Ken and Barbie don't end up together and they made Ken seem like a complete idiot. Actually they presented men as being dumb throughout the whole movie. And I'm not a man but that's just not true. It was depressing and sad and never the way Barbie was created for. I know a lot of people won't agree with me and that's okay but it was just pointless going to see it. The only good thing is that the Barbie aesthetic was beautifully done.\\nReview_Url: /review/rw9230831/?ref_=tt_urv\", metadata={}), Document(page_content=\": 9\\nReview_Date: 19 July 2023\\nAuthor: hamsterination\\nRating: 6\\nReview_Title: It could have been so much better...\\nReview: The film's universe and settings are fantastic. The casting is really good too, with Gosling excelling in the role of Ken.\\nReview_Url: /review/rw9230831/?ref_=tt_urv\", metadata={}), Document(page_content=': 10\\nReview_Date: 19 July 2023\\nAuthor: HabibieHakim123\\nRating: 8\\nReview_Title: Barbie Is A Weirdly Fun Movie!\\nReview: 8.5/10', metadata={}), Document(page_content='While i\\'m not so sure at first, the movie kept getting even more fun, entertaining, and definitely better, also surprisingly deal with a legit serious stuff, Barbie is a weirdly fun movie that fills with this very interesting concept, definitely the first time that\\'s ever done, Greta Gerwig has created this whole new style of filmmaking specifically for Barbie, from the intentionally weird yet creative editing, some awkward and cringe scene, i found the comedy so funny instead of cringe, Barbie is one of the most original movie of the year and also one of the most original movie i\\'ve seen in a while, we all know Margot Robbie and Ryan Gosling is gonna carry the movie and they are, but Will Ferrell, Simu Liu, and the whole rest of the cast were also great and entertaining, the soundtrack was just great, except Nicki Minaj and Ice Spice \"Barbie World\" song that are just absolutely terrible, but Billie Eilish \"What Was I Made For?\" tune that kept haunting in the background until it', metadata={}), Document(page_content='but Billie Eilish \"What Was I Made For?\" tune that kept haunting in the background until it finally get the perfect scene to played it was really the best thing because that song was just beautiful and emotional, anyway, Barbie is a lot of fun, while there is still some noticeable flawed, most of them i found it funny, entertaining, colourful, creative, and fun, pure fun, it\\'s something that i probably will love it even more the second time i see it, but as of right now, Barbie was a good time, definitely recommended and with this movie somehow it\\'s actually possible to have a live-action Barbie movie, all you need to have is a good writer, good director, and good cast, and they delivers mostly.', metadata={}), Document(page_content='Review_Url: /review/rw9230831/?ref_=tt_urv', metadata={}), Document(page_content=\": 11\\nReview_Date: 20 July 2023\\nAuthor: fscsgxp\\nRating: 6\\nReview_Title: Amazing Cast & Set, but the political message was too strong\\nReview: I've been excited for this movie for over a year. The casting was perfect and the acting was amazing! The set was next level, the tiny details were all there and even the highest barbie fan couldn't ask for anything more from it. It is PERFECTION.\\nReview_Url: /review/rw9230831/?ref_=tt_urv\", metadata={}), Document(page_content=': 12\\nReview_Date: 20 July 2023\\nAuthor: MissSimonetta\\nRating: 4\\nReview_Title: The marketing was more entertaining than the actual movie\\nReview: I went to see this today, everyone in my group dressed in pink and ready to at least be entertained by pastel-colored camp for two hours. BARBIE kind of succeeds there: I loved the costuming and sets of Barbieland, and Margot Robie is such a fantastic actress, the perfect embodiment of the optimistic, she-can-do-it-all Barbie. Ryan Gosling was a scene-stealer with his horse obsession and faux mink coat.\\nReview_Url: /review/rw9230831/?ref_=tt_urv', metadata={}), Document(page_content=': 13\\nReview_Date: 19 July 2023\\nAuthor: jpismyname\\nRating: 8\\nReview_Title: Fun and surprisingly touching\\nReview: I was honestly doubting this movie at first, but surprisingly I find myself really liking it quite a lot.\\nReview_Url: /review/rw9230831/?ref_=tt_urv', metadata={}), Document(page_content=\": 14\\nReview_Date: 4 August 2023\\nAuthor: thePopcornExplorer\\nRating: 9\\nReview_Title: I don't see how it was preachy\\nReview: In this day and age with society overall becoming more and more polarized and our leaders around the world doing nothing to improve dialogue, it seems that people became broken records. Now everything in the movies and TV shows is perceived as preachy, not everything is a conspiracy, people need to consider that movies and TV shows at its core, and specially the good ones, are about sharing perspectives and allow the audience, if their minds are opened to it, to acknowledge all sides of the stories.\\nReview_Url: /review/rw9230831/?ref_=tt_urv\", metadata={}), Document(page_content=\": 15\\nReview_Date: 23 July 2023\\nAuthor: Revuer223\\nRating: 6\\nReview_Title: Could Have Been Great. 2nd Half Brings It Down.\\nReview: The quality, the humor, and the writing of the movie is fun for a while. It's quirky and it's unique. When they get into the weeds and try to explore deeper themes, the movie is a miss. The middle expositional phase of the movie, I must say, is a bore.\\nReview_Url: /review/rw9230831/?ref_=tt_urv\", metadata={}), Document(page_content=': 16\\nReview_Date: 22 July 2023\\nAuthor: finnconnelly-63017\\nRating: 10\\nReview_Title: Ken out of ten', metadata={}), Document(page_content=\"Review: Wow. I did not see this masterpiece coming. And that's not a joke. Somehow, Greta Gerwig took Barbie, and made a movie that tackles some really tough social issues....well? It's crazy. But wow, does it work. The story is very mature, thinker of a plot. Once you're done laughing your butt off, you'll get really emotional. The production design is so on point. The whole movie is pink everything, but it's never polarizing. All the shades melt together in a very pleasing way. And of course the cast! Margot Robbie was born to play Barbie, and she hits a home run, but Ryan Gosling. This dude rocks as Ken. He knocked it all the way around the world and hit himself in the back of the head. He steals every scene he's in, and I would be so on board with a Ken spin-off. America Ferrara and Simu Liu are also great in their respective roles, but the cast overall is just perfect. Overall, Barbie is probably the best movie based off a toy (sorry LEGO Movies) and an overall fantastic time at\", metadata={}), Document(page_content='is probably the best movie based off a toy (sorry LEGO Movies) and an overall fantastic time at the movies.', metadata={}), Document(page_content='Review_Url: /review/rw9230831/?ref_=tt_urv', metadata={}), Document(page_content=': 17\\nReview_Date: 21 July 2023\\nAuthor: andermic18\\nRating: 6\\nReview_Title: No Direction', metadata={}), Document(page_content=\"Review: The movie was very funny and really enjoyable to laugh at with the full theatre. However, the messages of the movie were the problem. I was never really sure what I was supposed to take away, there was nothing about finding equality or love it was all about how every man cat falls every woman or women can't be anything. It was really silly because there was no accurate reflection of America at any single point except for Barbie getting called a Fascist for no reason by a 14 year old. I enjoyed how they called out women for hating women and how they really tried to preach empowerment and the ability to be anything, but at the same time there was so much resentment and they ended the movie by reinstating hate. The majority of the movie was hating men as much as possible. That's just whatever because what really matters is the story. Well it fell short on that mark and it was really disappointing. The pacing was horrible, the villain won and was pretty irrelevant in the long run,\", metadata={}), Document(page_content=\"disappointing. The pacing was horrible, the villain won and was pretty irrelevant in the long run, the story was all over the place, and it is totally not for kids. I think the worst part is how disappointed I was at the opportunity to really make something special and it just wasn't. 6 points for all the laughs and fun I had and I would expect 6-7 to be an appropriate rating.\", metadata={}), Document(page_content='Review_Url: /review/rw9230831/?ref_=tt_urv', metadata={}), Document(page_content=\": 18\\nReview_Date: 29 July 2023\\nAuthor: cmdown-50506\\nRating: 9\\nReview_Title: Now I am become Barbie Girl, the enjoyer of Barbie worlds\\nReview: I have been waiting for this to release for so long and I finally got to watch it today. I absolutely loved it! It was fun, it had Margot Robbie (and extra stuff for Tarantino's out there if you know what I mean) And it had some absolute bangers! What more could you want from a new summer classic?\\nReview_Url: /review/rw9230831/?ref_=tt_urv\", metadata={}), Document(page_content=\": 19\\nReview_Date: 19 July 2023\\nAuthor: tm-sheehan\\nRating: 6\\nReview_Title: Didn't hit my pink spot\\nReview: My Review - Barbie\\nIn Cinemas now\\nMy Rating 6.5/10\\nReview_Url: /review/rw9230831/?ref_=tt_urv\", metadata={}), Document(page_content=': 20\\nReview_Date: 20 July 2023\\nAuthor: Genti25\\nRating: 8\\nReview_Title: You are Kenough\\nReview: This movie is so much fun. It starts off really strong although the story does move away from \"Barbieland\" sooner than I would have liked. Nonetheless, it regains its footing with the final act in particular and I could not stop laughing at Ryan Gosling\\'s portrayal of Ken. That song will forever be stuck in my head.\\nReview_Url: /review/rw9230831/?ref_=tt_urv', metadata={}), Document(page_content=': 21\\nReview_Date: 24 July 2023\\nAuthor: lokicola\\nRating: 6\\nReview_Title: Strong Start... and That\\'s It\\nReview: I walked out of the theatre thinking, \"Yeah, I had a good time in that movie\". But as the day went on I kind had that \"Ok, that kebab probably wasn\\'t a good idea.\"\\nReview_Url: /review/rw9230831/?ref_=tt_urv', metadata={}), Document(page_content=': 22\\nReview_Date: 23 July 2023\\nAuthor: herrcarter-92161\\nRating: 5\\nReview_Title: Somewhat of a Jumbled Mess\\nReview: My 15-year old daughter wrote the following review and posted it to my IMDB account.\\nReview_Url: /review/rw9230831/?ref_=tt_urv', metadata={}), Document(page_content=': 23\\nReview_Date: 19 July 2023\\nAuthor: andypaps101\\nRating: 8\\nReview_Title: \"Barbie\" - A Multifaceted Exploration of Femininity, Consumerism, and Existentialism\\nReview: I got free tickets for a preview and to be honest I was more than a little embarrassed to go. I did not tell a soul. As a cool middle aged gentleman if word got out this could have really affected my street cred.\\nReview_Url: /review/rw9230831/?ref_=tt_urv', metadata={}), Document(page_content=': 24\\nReview_Date: 1 August 2023\\nAuthor: zkonedog\\nRating: 10\\nReview_Title: An Amazingly Perfect Blend Of Social Satire & Fun\\nReview: For a film like \"Barbie\" to succeed, every aspect had to come together perfectly. It needed to consummately balance satire with fun, the casting had to be spot-on, and the writing/directing required to pull off such a feat would need to be exquisite. Somewhat remarkably, that is exactly what writer/director Greta Gerwig pulls off here to create the best movie of summer 2023.\\nReview_Url: /review/rw9230831/?ref_=tt_urv', metadata={})]\n"
          ]
        }
      ],
      "source": [
        "print(documents)"
      ]
    },
    {
      "cell_type": "code",
      "execution_count": 44,
      "metadata": {
        "colab": {
          "base_uri": "https://localhost:8080/"
        },
        "id": "6N4OXAhc3oIB",
        "outputId": "51e36049-38af-4b4d-e2c5-4b16a363f8e6"
      },
      "outputs": [
        {
          "name": "stdout",
          "output_type": "stream",
          "text": [
            "37\n"
          ]
        }
      ],
      "source": [
        "print(len(documents))\n",
        "\n",
        "#assert len(documents) == 181"
      ]
    },
    {
      "cell_type": "markdown",
      "metadata": {
        "id": "ylT4jwmx3zCb"
      },
      "source": [
        "With our documents transformed into more manageable sizes, and with the correct metadata set-up, we're now ready to move on to creating our VectorStore!"
      ]
    },
    {
      "cell_type": "markdown",
      "metadata": {
        "id": "9cB0L_CN38W5"
      },
      "source": [
        "### Task 2: Creating an \"Index\"\n",
        "\n",
        "The term \"index\" is used largely to mean: Structured documents parsed into a useful format for querying, retrieving, and use in the LLM application stack."
      ]
    },
    {
      "cell_type": "markdown",
      "metadata": {
        "id": "GycdG53N4f9Z"
      },
      "source": [
        "#### Selecting Our VectorStore\n",
        "\n",
        "There are a number of different VectorStores, and a number of different strengths and weaknesses to each.\n",
        "\n",
        "In this notebook, we will be keeping it very simple by leveraging [Facebook AI Similarity Search](https://ai.meta.com/tools/faiss/#:~:text=FAISS%20(Facebook%20AI%20Similarity%20Search,more%20scalable%20similarity%20search%20functions.), or `FAISS`."
      ]
    },
    {
      "cell_type": "code",
      "execution_count": 45,
      "metadata": {
        "colab": {
          "base_uri": "https://localhost:8080/"
        },
        "id": "T5o4vwSn4hfe",
        "outputId": "62bf250d-1c4f-49c3-b154-71e52d530ddf"
      },
      "outputs": [],
      "source": [
        "!pip install -q -U faiss-cpu tiktoken"
      ]
    },
    {
      "cell_type": "markdown",
      "metadata": {
        "id": "CGU96p5R54Xz"
      },
      "source": [
        "We're going to be setting up our VectorStore with the OpenAI embeddings model. While this embeddings model does not need to be consistent with the LLM selection, it does need to be consistent between embedding our index and embedding our queries over that index.\n",
        "\n",
        "While we don't have to worry too much about that in this example - it's something to keep in mind for more complex applications.\n",
        "\n",
        "We're going to leverage a [`CacheBackedEmbeddings`](https://python.langchain.com/docs/modules/data_connection/caching_embeddings )flow to prevent us from re-embedding similar queries over and over again.\n",
        "\n",
        "Not only will this save time, it will also save us precious embedding tokens, which will reduce the overall cost for our application.\n",
        "\n",
        ">#### Note:\n",
        ">The overall cost savings needs to be compared against the additional cost of storing the cached embeddings for a true cost/benefit analysis. If your users are submitting the same queries often, though, this pattern can be a massive reduction in cost."
      ]
    },
    {
      "cell_type": "code",
      "execution_count": 47,
      "metadata": {
        "id": "AOzZWPU05WLr"
      },
      "outputs": [],
      "source": [
        "from langchain.embeddings.openai import OpenAIEmbeddings\n",
        "from langchain.embeddings import CacheBackedEmbeddings\n",
        "from langchain.vectorstores import FAISS\n",
        "from langchain.storage import LocalFileStore\n",
        "\n",
        "store = LocalFileStore(\"./cache/\")\n",
        "\n",
        "core_embeddings_model = OpenAIEmbeddings()\n",
        "\n",
        "embedder = CacheBackedEmbeddings.from_bytes_store(\n",
        "    core_embeddings_model,\n",
        "    store,\n",
        "    namespace=core_embeddings_model.model\n",
        ")\n",
        "\n",
        "vector_store = FAISS.from_documents(documents, core_embeddings_model)"
      ]
    },
    {
      "cell_type": "markdown",
      "metadata": {
        "id": "IGHzcE5i6fOR"
      },
      "source": [
        "Now that we've created the VectorStore, we can check that it's working by embedding a query and retrieving passages from our reviews that are close to it."
      ]
    },
    {
      "cell_type": "code",
      "execution_count": 48,
      "metadata": {
        "id": "JLOvFNxA6ZSH"
      },
      "outputs": [
        {
          "name": "stdout",
          "output_type": "stream",
          "text": [
            "While i'm not so sure at first, the movie kept getting even more fun, entertaining, and definitely better, also surprisingly deal with a legit serious stuff, Barbie is a weirdly fun movie that fills with this very interesting concept, definitely the first time that's ever done, Greta Gerwig has created this whole new style of filmmaking specifically for Barbie, from the intentionally weird yet creative editing, some awkward and cringe scene, i found the comedy so funny instead of cringe, Barbie is one of the most original movie of the year and also one of the most original movie i've seen in a while, we all know Margot Robbie and Ryan Gosling is gonna carry the movie and they are, but Will Ferrell, Simu Liu, and the whole rest of the cast were also great and entertaining, the soundtrack was just great, except Nicki Minaj and Ice Spice \"Barbie World\" song that are just absolutely terrible, but Billie Eilish \"What Was I Made For?\" tune that kept haunting in the background until it\n",
            "Review: The movie was very funny and really enjoyable to laugh at with the full theatre. However, the messages of the movie were the problem. I was never really sure what I was supposed to take away, there was nothing about finding equality or love it was all about how every man cat falls every woman or women can't be anything. It was really silly because there was no accurate reflection of America at any single point except for Barbie getting called a Fascist for no reason by a 14 year old. I enjoyed how they called out women for hating women and how they really tried to preach empowerment and the ability to be anything, but at the same time there was so much resentment and they ended the movie by reinstating hate. The majority of the movie was hating men as much as possible. That's just whatever because what really matters is the story. Well it fell short on that mark and it was really disappointing. The pacing was horrible, the villain won and was pretty irrelevant in the long run,\n",
            "Review: Wow. I did not see this masterpiece coming. And that's not a joke. Somehow, Greta Gerwig took Barbie, and made a movie that tackles some really tough social issues....well? It's crazy. But wow, does it work. The story is very mature, thinker of a plot. Once you're done laughing your butt off, you'll get really emotional. The production design is so on point. The whole movie is pink everything, but it's never polarizing. All the shades melt together in a very pleasing way. And of course the cast! Margot Robbie was born to play Barbie, and she hits a home run, but Ryan Gosling. This dude rocks as Ken. He knocked it all the way around the world and hit himself in the back of the head. He steals every scene he's in, and I would be so on board with a Ken spin-off. America Ferrara and Simu Liu are also great in their respective roles, but the cast overall is just perfect. Overall, Barbie is probably the best movie based off a toy (sorry LEGO Movies) and an overall fantastic time at\n",
            ": 20\n",
            "Review_Date: 20 July 2023\n",
            "Author: Genti25\n",
            "Rating: 8\n",
            "Review_Title: You are Kenough\n",
            "Review: This movie is so much fun. It starts off really strong although the story does move away from \"Barbieland\" sooner than I would have liked. Nonetheless, it regains its footing with the final act in particular and I could not stop laughing at Ryan Gosling's portrayal of Ken. That song will forever be stuck in my head.\n",
            "Review_Url: /review/rw9230831/?ref_=tt_urv\n"
          ]
        }
      ],
      "source": [
        "query = \"How is Will Ferrell in this movie?\"\n",
        "embedding_vector = core_embeddings_model.embed_query(query)\n",
        "docs = vector_store.similarity_search_by_vector(embedding_vector, k = 4)\n",
        "\n",
        "for page in docs:\n",
        "  print(page.page_content)"
      ]
    },
    {
      "cell_type": "markdown",
      "metadata": {
        "id": "ix4fyOUS-fU-"
      },
      "source": [
        "Let's see how much time the `CacheBackedEmbeddings` pattern saves us:"
      ]
    },
    {
      "cell_type": "code",
      "execution_count": 54,
      "metadata": {
        "colab": {
          "base_uri": "https://localhost:8080/"
        },
        "id": "eLXFKzu--m81",
        "outputId": "042181f7-7b21-4e47-dd5f-451b217c1aba"
      },
      "outputs": [
        {
          "name": "stdout",
          "output_type": "stream",
          "text": [
            "181 ms ± 0 ns per loop (mean ± std. dev. of 1 run, 1 loop each)\n"
          ]
        }
      ],
      "source": [
        "%%timeit -n 1 -r 1\n",
        "query = \"I really wanted to enjoy this and I know that I am not the target audience but there were massive plot holes and no real flow.\"\n",
        "embedding_vector = core_embeddings_model.embed_query(query)\n",
        "docs = vector_store.similarity_search_by_vector(embedding_vector, k = 4)"
      ]
    },
    {
      "cell_type": "code",
      "execution_count": 51,
      "metadata": {
        "colab": {
          "base_uri": "https://localhost:8080/"
        },
        "id": "pCwtsJbc_KPd",
        "outputId": "92acfeb8-26e8-4dd8-d247-29fea2ca5187"
      },
      "outputs": [
        {
          "name": "stdout",
          "output_type": "stream",
          "text": [
            "150 ms ± 14.8 ms per loop (mean ± std. dev. of 7 runs, 10 loops each)\n"
          ]
        }
      ],
      "source": [
        "%%timeit\n",
        "query = \"I really wanted to enjoy this and I know that I am not the target audience but there were massive plot holes and no real flow.\"\n",
        "embedding_vector = core_embeddings_model.embed_query(query)\n",
        "docs = vector_store.similarity_search_by_vector(embedding_vector, k = 4)"
      ]
    },
    {
      "cell_type": "markdown",
      "metadata": {
        "id": "b4utL1EfARTm"
      },
      "source": [
        "As we can see, even over a significant number of runs - the cached query is significantly faster than the first instance of the query!\n",
        "\n",
        "With that, we're ready to move onto Task 3!"
      ]
    },
    {
      "cell_type": "markdown",
      "metadata": {
        "id": "Po3kHNHGBp0j"
      },
      "source": [
        "### Task 3: Building a Retrieval Chain\n",
        "\n",
        "In this task, we'll be making a Retrieval Chain which will allow us to ask semantic questions over our data.\n",
        "\n",
        "This part is rather abstracted away from us in LangChain and so it seems very powerful.\n",
        "\n",
        "Be sure to check the documentation, the source code, and other provided resources to build a deeper understanding of what's happening \"under the hood\"!"
      ]
    },
    {
      "cell_type": "markdown",
      "metadata": {
        "id": "i5Ux9XdzCDi9"
      },
      "source": [
        "#### A Basic RetrievalQA Chain\n",
        "\n",
        "We're going to leverage `return_source_documents=True` to ensure we have proper sources for our reviews - should the end user want to verify the reviews themselves.\n",
        "\n",
        "Hallucinations [are](https://arxiv.org/abs/2202.03629) [a](https://arxiv.org/abs/2305.15852) [massive](https://arxiv.org/abs/2303.16104) [problem](https://arxiv.org/abs/2305.18248) in LLM applications.\n",
        "\n",
        "Though it has been tenuously shown that using Retrieval Augmentation [reduces hallucination in conversations](https://arxiv.org/pdf/2104.07567.pdf), one sure fire way to ensure your model is not hallucinating in a non-transparent way is to provide sources with your responses. This way the end-user can verify the output."
      ]
    },
    {
      "cell_type": "markdown",
      "metadata": {
        "id": "O_waVo3AEk71"
      },
      "source": [
        "#### Our LLM\n",
        "\n",
        "In this notebook, we'll continue to leverage OpenAI's suite of models - this time we'll be using the `gpt-3.5-turbo` model to power our RetrievalQAWithSources chain.\n",
        "\n",
        "Check out the relevant documentation if you get stuck:\n",
        "- [`OpenAIChat()`](https://python.langchain.com/docs/modules/model_io/models/chat/)"
      ]
    },
    {
      "cell_type": "code",
      "execution_count": 57,
      "metadata": {
        "id": "QfglvbBtExPR"
      },
      "outputs": [],
      "source": [
        "from langchain.llms.openai import OpenAIChat\n",
        "\n",
        "llm = OpenAIChat(model_name=\"gpt-3.5-turbo\")"
      ]
    },
    {
      "cell_type": "markdown",
      "metadata": {
        "id": "w35ZkVEoE8II"
      },
      "source": [
        "Now we can set up our chain.\n",
        "\n",
        "We'll need to make our VectorStore a retriever in order to be able to leverage it in our chain - let's check out the `as_retriever()` method.\n",
        "\n",
        "Relevant Documentation:\n",
        "- [`FAISS`](https://api.python.langchain.com/en/latest/vectorstores/langchain.vectorstores.faiss.FAISS.html#langchain.vectorstores.faiss.FAISS.as_retriever)"
      ]
    },
    {
      "cell_type": "code",
      "execution_count": 58,
      "metadata": {
        "id": "T8TWJMH8F_w7"
      },
      "outputs": [],
      "source": [
        "retriever = vector_store.as_retriever()"
      ]
    },
    {
      "cell_type": "code",
      "execution_count": 59,
      "metadata": {
        "id": "QeD8R6huFIf6"
      },
      "outputs": [],
      "source": [
        "from langchain.chains import RetrievalQA\n",
        "from langchain.callbacks import StdOutCallbackHandler\n",
        "\n",
        "handler = StdOutCallbackHandler()\n",
        "\n",
        "qa_with_sources_chain = RetrievalQA.from_chain_type(\n",
        "    llm=llm,\n",
        "    retriever=retriever,\n",
        "    callbacks=[handler],\n",
        "    return_source_documents=True\n",
        ")"
      ]
    },
    {
      "cell_type": "code",
      "execution_count": 61,
      "metadata": {
        "colab": {
          "base_uri": "https://localhost:8080/"
        },
        "id": "oqPaII9nF72R",
        "outputId": "0b46128f-edbe-4010-afdc-36603f25c4c6"
      },
      "outputs": [
        {
          "name": "stdout",
          "output_type": "stream",
          "text": [
            "\n",
            "\n",
            "\u001b[1m> Entering new RetrievalQA chain...\u001b[0m\n",
            "\n",
            "\u001b[1m> Finished chain.\u001b[0m\n"
          ]
        },
        {
          "data": {
            "text/plain": [
              "{'query': 'Was this movie fun?',\n",
              " 'result': 'Yes, based on the given reviews, it can be inferred that this movie was fun.',\n",
              " 'source_documents': [Document(page_content=': 13\\nReview_Date: 19 July 2023\\nAuthor: jpismyname\\nRating: 8\\nReview_Title: Fun and surprisingly touching\\nReview: I was honestly doubting this movie at first, but surprisingly I find myself really liking it quite a lot.\\nReview_Url: /review/rw9230831/?ref_=tt_urv', metadata={}),\n",
              "  Document(page_content=': 6\\nReview_Date: 21 July 2023\\nAuthor: Sleepin_Dragon\\nRating: 8\\nReview_Title: Well this really did come as a surprise.\\nReview: It pains me to say it, but I enjoyed this movie so much more then I was expecting to, musical numbers, humour, there truly is something for the whole family yo enjoy.\\nReview_Url: /review/rw9230831/?ref_=tt_urv', metadata={}),\n",
              "  Document(page_content='is probably the best movie based off a toy (sorry LEGO Movies) and an overall fantastic time at the movies.', metadata={}),\n",
              "  Document(page_content=\": 5\\nReview_Date: 21 July 2023\\nAuthor: G-Joshua-Benjamin\\nRating: 6\\nReview_Title: My mom and I saw this yesterday. Here are my thoughts.\\nReview: I don't know if I put spoilers in here. I am super worn out. Haha So I will just put that I did.\\nReview_Url: /review/rw9230831/?ref_=tt_urv\", metadata={})]}"
            ]
          },
          "execution_count": 61,
          "metadata": {},
          "output_type": "execute_result"
        }
      ],
      "source": [
        "qa_with_sources_chain({\"query\" : \"Was this movie fun?\"})"
      ]
    },
    {
      "cell_type": "code",
      "execution_count": 62,
      "metadata": {
        "colab": {
          "base_uri": "https://localhost:8080/"
        },
        "id": "47Ov7N22MxOS",
        "outputId": "aeb6271b-4161-4921-e07c-b5f9041e9c4d"
      },
      "outputs": [
        {
          "name": "stdout",
          "output_type": "stream",
          "text": [
            "\n",
            "\n",
            "\u001b[1m> Entering new RetrievalQA chain...\u001b[0m\n",
            "\n",
            "\u001b[1m> Finished chain.\u001b[0m\n"
          ]
        },
        {
          "data": {
            "text/plain": [
              "{'query': 'Do reviewers consider this movie Kenough?',\n",
              " 'result': 'Yes, based on the reviews provided, reviewers generally consider this movie \"Kenough\" or enjoyable. The majority of the reviews express positive sentiments, praising the film\\'s humor, the portrayal of Ken by Ryan Gosling, and the overall entertainment value. One reviewer even gives it a perfect rating of 10.',\n",
              " 'source_documents': [Document(page_content=': 20\\nReview_Date: 20 July 2023\\nAuthor: Genti25\\nRating: 8\\nReview_Title: You are Kenough\\nReview: This movie is so much fun. It starts off really strong although the story does move away from \"Barbieland\" sooner than I would have liked. Nonetheless, it regains its footing with the final act in particular and I could not stop laughing at Ryan Gosling\\'s portrayal of Ken. That song will forever be stuck in my head.\\nReview_Url: /review/rw9230831/?ref_=tt_urv', metadata={}),\n",
              "  Document(page_content=\": 9\\nReview_Date: 19 July 2023\\nAuthor: hamsterination\\nRating: 6\\nReview_Title: It could have been so much better...\\nReview: The film's universe and settings are fantastic. The casting is really good too, with Gosling excelling in the role of Ken.\\nReview_Url: /review/rw9230831/?ref_=tt_urv\", metadata={}),\n",
              "  Document(page_content=': 16\\nReview_Date: 22 July 2023\\nAuthor: finnconnelly-63017\\nRating: 10\\nReview_Title: Ken out of ten', metadata={}),\n",
              "  Document(page_content=\": 14\\nReview_Date: 4 August 2023\\nAuthor: thePopcornExplorer\\nRating: 9\\nReview_Title: I don't see how it was preachy\\nReview: In this day and age with society overall becoming more and more polarized and our leaders around the world doing nothing to improve dialogue, it seems that people became broken records. Now everything in the movies and TV shows is perceived as preachy, not everything is a conspiracy, people need to consider that movies and TV shows at its core, and specially the good ones, are about sharing perspectives and allow the audience, if their minds are opened to it, to acknowledge all sides of the stories.\\nReview_Url: /review/rw9230831/?ref_=tt_urv\", metadata={})]}"
            ]
          },
          "execution_count": 62,
          "metadata": {},
          "output_type": "execute_result"
        }
      ],
      "source": [
        "qa_with_sources_chain({\"query\" : \"Do reviewers consider this movie Kenough?\"})"
      ]
    },
    {
      "cell_type": "markdown",
      "metadata": {
        "id": "QQVCkoy3H5Rw"
      },
      "source": [
        "And with that, we have our Barbie Review RAQA Application built!"
      ]
    },
    {
      "cell_type": "markdown",
      "metadata": {
        "id": "KqIHum95dtns"
      },
      "source": [
        "### Conclusion\n",
        "\n",
        "Now that we have our application ready, let's deploy it to a Hugging Face space with their Docker spaces.\n",
        "\n",
        "You can find the next part [here](https://ai-maker-space-barbie-raqa-application-chainlit-demo.hf.space/readme)!\n",
        "\n",
        "You've built, now it's time to ship! 🚢"
      ]
    },
    {
      "cell_type": "code",
      "execution_count": null,
      "metadata": {
        "id": "IASA1yaad6ml"
      },
      "outputs": [],
      "source": []
    }
  ],
  "metadata": {
    "colab": {
      "include_colab_link": true,
      "provenance": []
    },
    "kernelspec": {
      "display_name": "Python 3",
      "name": "python3"
    },
    "language_info": {
      "codemirror_mode": {
        "name": "ipython",
        "version": 3
      },
      "file_extension": ".py",
      "mimetype": "text/x-python",
      "name": "python",
      "nbconvert_exporter": "python",
      "pygments_lexer": "ipython3",
      "version": "3.9.6"
    }
  },
  "nbformat": 4,
  "nbformat_minor": 0
}
